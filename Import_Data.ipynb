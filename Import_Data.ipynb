{
 "cells": [
  {
   "cell_type": "code",
   "execution_count": 1,
   "metadata": {},
   "outputs": [
    {
     "name": "stdout",
     "output_type": "stream",
     "text": [
      "Processing ./fhnw_ds_hs2019_weatherstation_api/dist/fhnw_ds_hs2019_weatherstation_api-0.1-py3-none-any.whl\n",
      "Installing collected packages: fhnw-ds-hs2019-weatherstation-api\n",
      "Successfully installed fhnw-ds-hs2019-weatherstation-api-0.1\n"
     ]
    }
   ],
   "source": [
    "import sys\n",
    "!{sys.executable} -m pip install ./fhnw_ds_hs2019_weatherstation_api/dist/fhnw_ds_hs2019_weatherstation_api-0.1-py3-none-any.whl"
   ]
  },
  {
   "cell_type": "code",
   "execution_count": 3,
   "metadata": {},
   "outputs": [
    {
     "name": "stdout",
     "output_type": "stream",
     "text": [
      "Load historic data for mythenquai ...\n",
      "\tLoad ./data/messwerte_mythenquai_2007-2018.csv\n",
      "\tLoad ./data/messwerte_mythenquai_2019.csv\n",
      "Historic data for mythenquai loaded.\n",
      "Load historic data for tiefenbrunnen ...\n",
      "\tLoad ./data/messwerte_tiefenbrunnen_2007-2018.csv\n",
      "\tLoad ./data/messwerte_tiefenbrunnen_2019.csv\n",
      "Historic data for tiefenbrunnen loaded.\n",
      "Query mythenquai at 2019-06-17\n",
      "Handle mythenquai from 2019-06-17 14:00:00 to 2019-06-18 00:00:00\n",
      "Query tiefenbrunnen at 2019-06-17\n",
      "Handle tiefenbrunnen from 2019-06-17 14:00:00 to 2019-06-18 00:00:00\n",
      "Query mythenquai at 2019-06-18\n",
      "Handle mythenquai from 2019-06-18 00:10:00 to 2019-06-19 00:00:00\n",
      "Query tiefenbrunnen at 2019-06-18\n",
      "Handle tiefenbrunnen from 2019-06-18 00:10:00 to 2019-06-19 00:00:00\n",
      "Query mythenquai at 2019-06-19\n",
      "Handle mythenquai from 2019-06-19 00:10:00 to 2019-06-20 00:00:00\n",
      "Query tiefenbrunnen at 2019-06-19\n",
      "Handle tiefenbrunnen from 2019-06-19 00:10:00 to 2019-06-20 00:00:00\n",
      "Query mythenquai at 2019-06-20\n",
      "Handle mythenquai from 2019-06-20 00:10:00 to 2019-06-21 00:00:00\n",
      "Query tiefenbrunnen at 2019-06-20\n",
      "Handle tiefenbrunnen from 2019-06-20 00:10:00 to 2019-06-21 00:00:00\n",
      "Query mythenquai at 2019-06-21\n",
      "Handle mythenquai from 2019-06-21 00:10:00 to 2019-06-22 00:00:00\n",
      "Query tiefenbrunnen at 2019-06-21\n",
      "Handle tiefenbrunnen from 2019-06-21 00:10:00 to 2019-06-22 00:00:00\n",
      "Query mythenquai at 2019-06-22\n",
      "Handle mythenquai from 2019-06-22 00:10:00 to 2019-06-23 00:00:00\n",
      "Query tiefenbrunnen at 2019-06-22\n",
      "Handle tiefenbrunnen from 2019-06-22 00:10:00 to 2019-06-23 00:00:00\n",
      "Query mythenquai at 2019-06-23\n",
      "Handle mythenquai from 2019-06-23 00:10:00 to 2019-06-24 00:00:00\n",
      "Query tiefenbrunnen at 2019-06-23\n",
      "Handle tiefenbrunnen from 2019-06-23 00:10:00 to 2019-06-24 00:00:00\n",
      "Query mythenquai at 2019-06-24\n",
      "Handle mythenquai from 2019-06-24 00:10:00 to 2019-06-25 00:00:00\n",
      "Query tiefenbrunnen at 2019-06-24\n",
      "Handle tiefenbrunnen from 2019-06-24 00:10:00 to 2019-06-25 00:00:00\n",
      "Query mythenquai at 2019-06-25\n",
      "Handle mythenquai from 2019-06-25 00:10:00 to 2019-06-26 00:00:00\n",
      "Query tiefenbrunnen at 2019-06-25\n",
      "Handle tiefenbrunnen from 2019-06-25 00:10:00 to 2019-06-26 00:00:00\n",
      "Query mythenquai at 2019-06-26\n",
      "Handle mythenquai from 2019-06-26 00:10:00 to 2019-06-27 00:00:00\n",
      "Query tiefenbrunnen at 2019-06-26\n",
      "Handle tiefenbrunnen from 2019-06-26 00:10:00 to 2019-06-27 00:00:00\n",
      "Query mythenquai at 2019-06-27\n",
      "Handle mythenquai from 2019-06-27 00:10:00 to 2019-06-27 09:50:00\n",
      "Query tiefenbrunnen at 2019-06-27\n",
      "Handle tiefenbrunnen from 2019-06-27 00:10:00 to 2019-06-27 09:50:00\n",
      "Query mythenquai at 2019-06-27\n",
      "No new data received for mythenquai\n",
      "Query tiefenbrunnen at 2019-06-27\n",
      "No new data received for tiefenbrunnen\n"
     ]
    }
   ],
   "source": [
    "from fhnw_ds_hs2019_weatherstation_api import data_import as weather\n",
    "import os\n",
    "\n",
    "# DB and CSV config\n",
    "config = weather.Config()\n",
    "# define CSV path\n",
    "config.historic_data_folder='.'+os.sep+'data'\n",
    "# define DB host\n",
    "config.db_host='localhost'\n",
    "\n",
    "# connect to DB\n",
    "weather.connect_db(config)\n",
    "# clean DB\n",
    "weather.clean_db(config)\n",
    "# import historic data\n",
    "weather.import_historic_data(config)\n",
    "# import latest data (delta between last data point in DB and current time)\n",
    "weather.import_latest_data(config, append_to_csv=False, periodic_read=False)"
   ]
  },
  {
   "cell_type": "code",
   "execution_count": null,
   "metadata": {},
   "outputs": [],
   "source": []
  }
 ],
 "metadata": {
  "kernelspec": {
   "display_name": "Python 3",
   "language": "python",
   "name": "python3"
  },
  "language_info": {
   "codemirror_mode": {
    "name": "ipython",
    "version": 3
   },
   "file_extension": ".py",
   "mimetype": "text/x-python",
   "name": "python",
   "nbconvert_exporter": "python",
   "pygments_lexer": "ipython3",
   "version": "3.7.3"
  }
 },
 "nbformat": 4,
 "nbformat_minor": 2
}
